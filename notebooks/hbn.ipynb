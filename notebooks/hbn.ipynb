{
 "cells": [
  {
   "cell_type": "code",
   "execution_count": 1,
   "id": "daily-cyprus",
   "metadata": {},
   "outputs": [
    {
     "data": {
      "text/html": [
       "<style>.container { width:80% !important; }</style>"
      ],
      "text/plain": [
       "<IPython.core.display.HTML object>"
      ]
     },
     "metadata": {},
     "output_type": "display_data"
    }
   ],
   "source": [
    "from nanotag.data import NanotagData, ImageFileCollection, Summary\n",
    "from nanotag.image import ImageSeries, GaussianFilterSlider\n",
    "from nanotag.tags import PointTags, PointTagSeries\n",
    "from nanotag.timeline import Timeline, TimelineTags, EditTimelineTags\n",
    "from nanotag.canvas import Canvas, ToolBox\n",
    "from nanotag.tools import EditPointTags, ResetView, BoxZoomTool, PanZoomTool\n",
    "from nanotag.utils import link\n",
    "from nanotag.histogram import Histogram\n",
    "from traitlets import directional_link\n",
    "\n",
    "from bqplot import ColorScale, Scatter, Figure\n",
    "import ipywidgets as widgets\n",
    "import os\n",
    "import numpy as np\n",
    "\n",
    "from IPython.core.display import display, HTML\n",
    "display(HTML(\"<style>.container { width:80% !important; }</style>\"))"
   ]
  },
  {
   "cell_type": "code",
   "execution_count": 2,
   "id": "secret-configuration",
   "metadata": {},
   "outputs": [],
   "source": [
    "root_directory = 'D:/data/hBN_export'\n",
    "analysis_file = 'ml_analysis.json'\n",
    "filt = '**/*.tif'"
   ]
  },
  {
   "cell_type": "code",
   "execution_count": 70,
   "id": "constant-consolidation",
   "metadata": {},
   "outputs": [],
   "source": [
    "atom_tags = PointTagSeries(data_fields=('sublattice','defect'), enable_move=False)\n",
    "has_defect_tags = TimelineTags(row='defect', data_fields=('defect',), enable_move=False, color_scale=ColorScale(min=0, max=1))\n",
    "area_tags = TimelineTags(row='scan err', data_fields=('area',), enable_move=False, color_scale=ColorScale(colors=['red', 'white'], min=.8, max=1))\n",
    "skipped_tags = TimelineTags(row='skipped', data_fields=('skipped',), enable_move=False, color_scale=ColorScale(min=.8, max=1))\n",
    "\n",
    "image_series = ImageSeries()\n",
    "gaussian_filter = GaussianFilterSlider(max=10)\n",
    "image_series.filters = [gaussian_filter]\n",
    "nanotag_data = NanotagData(root_directory = root_directory,\n",
    "                           read_file = analysis_file,\n",
    "                           write_file = analysis_file,\n",
    "                           tags = {'points' : atom_tags, 'area': area_tags}\n",
    "                           )\n",
    "\n",
    "image_file_collection = ImageFileCollection(filter=filt, image_series=image_series)\n",
    "link((nanotag_data, 'root_directory'), (image_file_collection, 'root_directory'))\n",
    "link((image_file_collection, 'hash'), (nanotag_data, 'identifier'), check_broken=False)\n",
    "\n",
    "timeline = Timeline()\n",
    "timeline.tags = [has_defect_tags, area_tags, skipped_tags]\n",
    "link((image_series, 'num_frames'), (timeline, 'num_frames'))\n",
    "directional_link((timeline, 'frame_index'), (image_series, 'frame_index'))\n",
    "directional_link((timeline, 'frame_index'), (atom_tags, 'frame_index'))\n",
    "\n",
    "canvas = Canvas()\n",
    "canvas.tags = [atom_tags]\n",
    "canvas.image = image_series\n",
    "\n",
    "summary = Summary(write_file='summary.json')"
   ]
  },
  {
   "cell_type": "code",
   "execution_count": 71,
   "id": "cf441304",
   "metadata": {},
   "outputs": [],
   "source": [
    "atom_tags.point_tags.color_scheme = 'category'\n",
    "atom_tags.point_tags.color_scale.min = 0\n",
    "atom_tags.point_tags.color_scale.max = 10"
   ]
  },
  {
   "cell_type": "code",
   "execution_count": 72,
   "id": "9d188d09",
   "metadata": {},
   "outputs": [],
   "source": [
    "def on_new_image(*args):\n",
    "    n_defects = [sum(v['defect']) for v in atom_tags.series.values()]\n",
    "    has_defect_tags.t = np.where(n_defects)[0]\n",
    "    skipped_tags.t = np.where(area_tags.area < .9)[0]\n",
    "    \n",
    "    if len(has_defect_tags.t) > 0:\n",
    "        timeline.frame_index = int(min(has_defect_tags.t))\n",
    "    else:\n",
    "        timeline.frame_index = 0\n",
    "    \n",
    "    \n",
    "image_file_collection.observe(on_new_image, 'hash')"
   ]
  },
  {
   "cell_type": "code",
   "execution_count": 73,
   "id": "supported-caution",
   "metadata": {
    "scrolled": false
   },
   "outputs": [
    {
     "data": {
      "application/vnd.jupyter.widget-view+json": {
       "model_id": "bc1f2dbbeb4247cca5222faefb95891f",
       "version_major": 2,
       "version_minor": 0
      },
      "text/plain": [
       "HBox(children=(VBox(children=(Canvas(children=(Figure(axes=[Axis(scale=LinearScale(allow_padding=False), side=…"
      ]
     },
     "metadata": {},
     "output_type": "display_data"
    }
   ],
   "source": [
    "nanotag_data.read_data()\n",
    "on_new_image()\n",
    "\n",
    "tools_column = widgets.VBox([image_file_collection, nanotag_data, gaussian_filter, atom_tags])\n",
    "canvas_box = widgets.VBox([canvas, timeline])\n",
    "\n",
    "widgets.HBox([canvas_box, tools_column])"
   ]
  }
 ],
 "metadata": {
  "kernelspec": {
   "display_name": "nanotag",
   "language": "python",
   "name": "nanotag"
  },
  "language_info": {
   "codemirror_mode": {
    "name": "ipython",
    "version": 3
   },
   "file_extension": ".py",
   "mimetype": "text/x-python",
   "name": "python",
   "nbconvert_exporter": "python",
   "pygments_lexer": "ipython3",
   "version": "3.8.10"
  }
 },
 "nbformat": 4,
 "nbformat_minor": 5
}
