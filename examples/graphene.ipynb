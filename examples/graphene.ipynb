{
 "cells": [
  {
   "cell_type": "code",
   "execution_count": 1,
   "id": "47f41900",
   "metadata": {},
   "outputs": [
    {
     "data": {
      "text/html": [
       "<style>.container { width:60% !important; }</style>"
      ],
      "text/plain": [
       "<IPython.core.display.HTML object>"
      ]
     },
     "metadata": {},
     "output_type": "display_data"
    }
   ],
   "source": [
    "import numpy as np\n",
    "\n",
    "from nanotag.files import ImageCollectionBrowser, walk_dir\n",
    "from nanotag.canvas import Canvas\n",
    "from nanotag.artists import ImageArtist, ScatterArtist\n",
    "from nanotag.utils import link\n",
    "from nanotag.image import GaussianFilterSlider\n",
    "from nanotag.tools import BoxZoomTool, PanZoomTool\n",
    "\n",
    "import ipywidgets as widgets\n",
    "from traitlets import directional_link\n",
    "\n",
    "from IPython.core.display import display, HTML\n",
    "display(HTML(\"<style>.container { width:60% !important; }</style>\"))"
   ]
  },
  {
   "cell_type": "code",
   "execution_count": 5,
   "id": "f0060936",
   "metadata": {},
   "outputs": [],
   "source": [
    "#files = walk_dir('D:\\\\ucloud\\\\Shared\\\\STEM-R18\\\\ScanMap\\\\Hole-65\\\\map_2020_09_29_10_34', '.tif')\n",
    "#files = walk_dir('D:\\\\data\\\\MoS2_example_series', '.tif')\n",
    "files = walk_dir('D:\\\\data\\\\wrong-dopants', '.tif')\n",
    "\n",
    "#files"
   ]
  },
  {
   "cell_type": "code",
   "execution_count": 8,
   "id": "1b22774d",
   "metadata": {},
   "outputs": [
    {
     "data": {
      "application/vnd.jupyter.widget-view+json": {
       "model_id": "4a4ea055cfce4672a083d946dbb2c871",
       "version_major": 2,
       "version_minor": 0
      },
      "text/plain": [
       "VBox(children=(HBox(children=(VBox(children=(HBox(children=(HBox(layout=Layout(width='50px')), HTML(value=\"<p …"
      ]
     },
     "metadata": {},
     "output_type": "display_data"
    }
   ],
   "source": [
    "browser = ImageCollectionBrowser(paths = files, binning=1)\n",
    "\n",
    "canvas = Canvas()\n",
    "canvas.x_label = 'x [pixels]'\n",
    "canvas.y_label = 'y [pixels]'\n",
    "\n",
    "image_artist = ImageArtist()\n",
    "#point_artist = ScatterArtist()\n",
    "\n",
    "canvas.artists = {'image':image_artist,}\n",
    "canvas.tools = {'Pan': PanZoomTool(), 'Zoom': BoxZoomTool()}#, 'Edit':EditPointTool(scatter_artist=point_artist)}\n",
    "\n",
    "\n",
    "gaussian_filter = GaussianFilterSlider()\n",
    "\n",
    "link((browser, 'image'), (gaussian_filter, 'image_in'), check_broken=False)\n",
    "link((gaussian_filter, 'image_out'), (image_artist, 'image'), check_broken=False)\n",
    "\n",
    "browser._observe_frame_index()\n",
    "\n",
    "app = widgets.VBox([widgets.HBox([canvas.widget, widgets.VBox([browser.widget, gaussian_filter])]), canvas.toolbar])\n",
    "\n",
    "app"
   ]
  }
 ],
 "metadata": {
  "kernelspec": {
   "display_name": "nanotag",
   "language": "python",
   "name": "nanotag"
  },
  "language_info": {
   "codemirror_mode": {
    "name": "ipython",
    "version": 3
   },
   "file_extension": ".py",
   "mimetype": "text/x-python",
   "name": "python",
   "nbconvert_exporter": "python",
   "pygments_lexer": "ipython3",
   "version": "3.8.10"
  }
 },
 "nbformat": 4,
 "nbformat_minor": 5
}
