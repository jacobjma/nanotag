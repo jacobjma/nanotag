{
 "cells": [
  {
   "cell_type": "code",
   "execution_count": 1,
   "id": "5851a841",
   "metadata": {},
   "outputs": [
    {
     "data": {
      "text/html": [
       "<style>.container { width:60% !important; }</style>"
      ],
      "text/plain": [
       "<IPython.core.display.HTML object>"
      ]
     },
     "metadata": {},
     "output_type": "display_data"
    }
   ],
   "source": [
    "import numpy as np\n",
    "\n",
    "from nanotag.files import ImageCollectionBrowser, walk_dir\n",
    "from nanotag.canvas import Canvas\n",
    "from nanotag.artists import ImageArtist, ScatterArtist\n",
    "from nanotag.utils import link\n",
    "from nanotag.image import GaussianFilterSlider\n",
    "from nanotag.tools import BoxZoomTool, PanZoomTool\n",
    "\n",
    "import ipywidgets as widgets\n",
    "from traitlets import directional_link\n",
    "\n",
    "from IPython.core.display import display, HTML\n",
    "display(HTML(\"<style>.container { width:60% !important; }</style>\"))"
   ]
  },
  {
   "cell_type": "code",
   "execution_count": 2,
   "id": "2dd9366e",
   "metadata": {},
   "outputs": [],
   "source": [
    "#files = walk_dir('D:\\\\ucloud\\\\Shared\\\\STEM-R18\\\\ScanMap\\\\Hole-65\\\\map_2020_09_29_10_34', '.tif')\n",
    "#files = walk_dir('D:\\\\data\\\\MoS2_example_series', '.tif')\n",
    "files = walk_dir('D:\\\\data\\\\julia', '.tif')\n",
    "\n",
    "metadata = {files[0]:'metadata.json'}"
   ]
  },
  {
   "cell_type": "code",
   "execution_count": 3,
   "id": "2d8623a3",
   "metadata": {},
   "outputs": [],
   "source": [
    "\n",
    "\n",
    "from ipywidgets import Label, HTML, HBox, Image, VBox, Box, HBox\n",
    "from ipyevents import Event \n",
    "from IPython.display import display\n",
    "\n"
   ]
  },
  {
   "cell_type": "code",
   "execution_count": null,
   "id": "cde45fb6",
   "metadata": {},
   "outputs": [],
   "source": []
  },
  {
   "cell_type": "code",
   "execution_count": 31,
   "id": "53e6586b",
   "metadata": {},
   "outputs": [],
   "source": [
    "from traitlets import HasTraits, Any, Float, Int\n",
    "from bqplot_image_gl.interacts import MouseInteraction\n",
    "from scipy.spatial import KDTree\n",
    "\n",
    "\n",
    "\n",
    "\n",
    "class EditPointTool(HasTraits):\n",
    "    scatter_artist = Any()\n",
    "    tolerance = Float(50)\n",
    "    _selected = Int(None, allow_none=True)\n",
    "\n",
    "    def activate(self, canvas):\n",
    "        interaction = MouseInteraction(x_scale=canvas.x_scale, y_scale=canvas.y_scale)        \n",
    "        \n",
    "        def on_msg(_, change, __):\n",
    "            position = [change['domain']['y'], change['domain']['x']]\n",
    "            \n",
    "            if change['event'] in ('click',):\n",
    "            \n",
    "                if change['ctrlKey']:\n",
    "                    distance, index = KDTree(self.scatter_artist.points).query(position, 1)\n",
    "                    \n",
    "                    if distance > self.tolerance:\n",
    "                        return\n",
    "                    \n",
    "                    self.scatter_artist.points = np.delete(self.scatter_artist.points, index, axis=0)\n",
    "                    \n",
    "                else:\n",
    "                    self.scatter_artist.points = np.vstack((self.scatter_artist.points, [position]))\n",
    "            \n",
    "            \n",
    "#             if change['event'] in ('dragmove',):\n",
    "#                 distance, index = KDTree(self.scatter_artist.points).query(position, 1)\n",
    "#                 self._selected = index.item()\n",
    "                \n",
    "#                 if self._selected is None:\n",
    "#                     return\n",
    "                \n",
    "#                 if len(self.scatter_artist.points) == 0:\n",
    "#                     return\n",
    "                \n",
    "#                 points = self.scatter_artist.points\n",
    "#                 points[self._selected][0] = position[0]\n",
    "#                 points[self._selected][1] = position[1]\n",
    "                \n",
    "#                 self.scatter_artist._mark.y = points[:,0]\n",
    "#                 self.scatter_artist._mark.x = points[:,1]\n",
    "                \n",
    "#                 print('aaa')\n",
    "            \n",
    "#             if change['event'] in ('dragend',):\n",
    "#                 self._selected = None\n",
    "        \n",
    "        canvas.figure.interaction = interaction\n",
    "        interaction.events = []\n",
    "        #interaction.on_msg(on_msg)\n",
    "\n",
    "    def deactivate(self, canvas):\n",
    "        #self.scatter_artist._mark.enable_move = False\n",
    "        canvas.figure.interaction = None\n",
    "        "
   ]
  },
  {
   "cell_type": "code",
   "execution_count": 18,
   "id": "7cc008ed",
   "metadata": {
    "scrolled": false
   },
   "outputs": [
    {
     "data": {
      "application/vnd.jupyter.widget-view+json": {
       "model_id": "73acd49cb34e47e5ac21dbd7a5507059",
       "version_major": 2,
       "version_minor": 0
      },
      "text/plain": [
       "VBox(children=(HBox(children=(VBox(children=(HBox(children=(HBox(layout=Layout(width='50px')), HTML(value=\"<p …"
      ]
     },
     "metadata": {},
     "output_type": "display_data"
    }
   ],
   "source": [
    "browser = ImageCollectionBrowser(paths = files, binning=1, metadata_paths=metadata)\n",
    "\n",
    "canvas = Canvas()\n",
    "canvas.x_label = 'x [pixels]'\n",
    "canvas.y_label = 'y [pixels]'\n",
    "\n",
    "image_artist = ImageArtist()\n",
    "point_artist = ScatterArtist()\n",
    "\n",
    "canvas.artists = {'points':point_artist, 'image':image_artist,}\n",
    "canvas.tools = {'Pan': PanZoomTool(), 'Zoom': BoxZoomTool()}#, 'Edit':EditPointTool(scatter_artist=point_artist)}\n",
    "\n",
    "def transform_link():\n",
    "    def _transform_link(x):\n",
    "        try:\n",
    "            return np.array(x['points'])\n",
    "        except KeyError:\n",
    "            return np.zeros((0,2), dtype=np.float64)\n",
    "    \n",
    "    return _transform_link\n",
    "\n",
    "directional_link((browser, 'frame_metadata'), (point_artist, 'points'), transform= transform_link())\n",
    "\n",
    "gaussian_filter = GaussianFilterSlider()\n",
    "\n",
    "link((browser, 'image'), (gaussian_filter, 'image_in'), check_broken=False)\n",
    "link((gaussian_filter, 'image_out'), (image_artist, 'image'), check_broken=False)\n",
    "\n",
    "browser._observe_frame_index()\n",
    "\n",
    "app = widgets.VBox([widgets.HBox([canvas.widget, widgets.VBox([browser.widget, gaussian_filter])]), canvas.toolbar])\n",
    "\n",
    "app"
   ]
  },
  {
   "cell_type": "code",
   "execution_count": 22,
   "id": "8ba03238",
   "metadata": {},
   "outputs": [],
   "source": [
    "point_artist._mark.enable_move = True\n",
    "#point_artist._mark.interactions  = {'click':'add'}"
   ]
  },
  {
   "cell_type": "code",
   "execution_count": 20,
   "id": "fcd707fd",
   "metadata": {},
   "outputs": [
    {
     "data": {
      "application/vnd.jupyter.widget-view+json": {
       "model_id": "ad91f059cc03420e80544ba5dc33a089",
       "version_major": 2,
       "version_minor": 0
      },
      "text/plain": [
       "Label(value='Click or type on me!', layout=Layout(border='2px solid red'))"
      ]
     },
     "metadata": {},
     "output_type": "display_data"
    },
    {
     "data": {
      "application/vnd.jupyter.widget-view+json": {
       "model_id": "65f39993526546ae84700a68644f2880",
       "version_major": 2,
       "version_minor": 0
      },
      "text/plain": [
       "HTML(value='Event info')"
      ]
     },
     "metadata": {},
     "output_type": "display_data"
    }
   ],
   "source": [
    "l = Label('Click or type on me!')\n",
    "l.layout.border = '2px solid red'\n",
    "\n",
    "h = HTML('Event info')\n",
    "d = Event(source=app, watched_events=['keydown'])\n",
    "\n",
    "def handle_event(event):\n",
    "    if event['key'] == 'p':\n",
    "        canvas.tool = 'Pan'\n",
    "    \n",
    "    if event['key'] == 'z':\n",
    "        canvas.tool = 'Zoom'\n",
    "    \n",
    "    if event['key'] == 'r':\n",
    "        canvas.reset()\n",
    "    \n",
    "    if event['key'] == 'ArrowRight':\n",
    "        browser.next_frame()\n",
    "    \n",
    "    if event['key'] == 'ArrowLeft':\n",
    "        browser.previous_frame()\n",
    "    \n",
    "    \n",
    "    lines = ['{}: {}'.format(k, v) for k, v in event.items()]\n",
    "    content = '<br>'.join(lines)\n",
    "    h.value = content\n",
    "\n",
    "d.on_dom_event(handle_event)\n",
    "                            \n",
    "display(l, h)"
   ]
  },
  {
   "cell_type": "code",
   "execution_count": 306,
   "id": "aa32b3a4",
   "metadata": {},
   "outputs": [],
   "source": [
    "point_artist._mark.enable_move = True"
   ]
  },
  {
   "cell_type": "code",
   "execution_count": 205,
   "id": "1929f9f3",
   "metadata": {},
   "outputs": [],
   "source": [
    "point_artist.points = np.vstack((point_artist.points, [[30,30]]))"
   ]
  },
  {
   "cell_type": "code",
   "execution_count": 170,
   "id": "046abb28",
   "metadata": {},
   "outputs": [],
   "source": [
    "from bqplot import Interaction\n",
    "from bqplot_image_gl.interacts import MouseInteraction, keyboard_events, mouse_events"
   ]
  },
  {
   "cell_type": "code",
   "execution_count": 176,
   "id": "be7968f4",
   "metadata": {},
   "outputs": [],
   "source": [
    "interaction = MouseInteraction(x_scale=canvas.x_scale, y_scale=canvas.y_scale, #next=Interaction(),\n",
    "                              events = keyboard_events)\n",
    "\n",
    "canvas.figure.interaction = interaction\n",
    "#interaction.events = ['click']\n",
    "\n",
    "def on_mouse_msg(*args):\n",
    "    print('aa')\n",
    "\n",
    "interaction.on_msg(on_mouse_msg)"
   ]
  },
  {
   "cell_type": "code",
   "execution_count": 175,
   "id": "73893f96",
   "metadata": {},
   "outputs": [],
   "source": [
    "point_artist._mark.interactions = {'click': 'add'}\n",
    "point_artist._mark.enable_move = True"
   ]
  },
  {
   "cell_type": "code",
   "execution_count": 65,
   "id": "c31cbdea",
   "metadata": {},
   "outputs": [
    {
     "data": {
      "text/plain": [
       "Scatter(colors=['red'], interactions={'hover': 'tooltip'}, scales={'x': LinearScale(allow_padding=False), 'y': LinearScale(allow_padding=False)}, scales_metadata={'x': {'orientation': 'horizontal', 'dimension': 'x'}, 'y': {'orientation': 'vertical', 'dimension': 'y'}, 'color': {'dimension': 'color'}, 'size': {'dimension': 'size'}, 'opacity': {'dimension': 'opacity'}, 'rotation': {'dimension': 'rotation'}, 'skew': {'dimension': 'skew'}}, tooltip_style={'opacity': 0.9})"
      ]
     },
     "execution_count": 65,
     "metadata": {},
     "output_type": "execute_result"
    }
   ],
   "source": [
    "point_artist._mark"
   ]
  },
  {
   "cell_type": "code",
   "execution_count": 61,
   "id": "70f67859",
   "metadata": {},
   "outputs": [
    {
     "ename": "ValueError",
     "evalue": "assignment destination is read-only",
     "output_type": "error",
     "traceback": [
      "\u001b[1;31m---------------------------------------------------------------------------\u001b[0m",
      "\u001b[1;31mValueError\u001b[0m                                Traceback (most recent call last)",
      "\u001b[1;32m<ipython-input-61-4819d40fc234>\u001b[0m in \u001b[0;36m<module>\u001b[1;34m\u001b[0m\n\u001b[1;32m----> 1\u001b[1;33m \u001b[0mpoint_artist\u001b[0m\u001b[1;33m.\u001b[0m\u001b[0m_mark\u001b[0m\u001b[1;33m.\u001b[0m\u001b[0mx\u001b[0m\u001b[1;33m[\u001b[0m\u001b[1;36m20\u001b[0m\u001b[1;33m]\u001b[0m \u001b[1;33m=\u001b[0m \u001b[1;36m20\u001b[0m\u001b[1;33m\u001b[0m\u001b[1;33m\u001b[0m\u001b[0m\n\u001b[0m",
      "\u001b[1;31mValueError\u001b[0m: assignment destination is read-only"
     ]
    }
   ],
   "source": [
    "point_artist._mark.x[20] = 20"
   ]
  },
  {
   "cell_type": "code",
   "execution_count": 16,
   "id": "ef64f4c5",
   "metadata": {},
   "outputs": [
    {
     "data": {
      "text/plain": [
       "20"
      ]
     },
     "execution_count": 16,
     "metadata": {},
     "output_type": "execute_result"
    }
   ],
   "source": [
    "len(point_artist.points)"
   ]
  },
  {
   "cell_type": "code",
   "execution_count": 61,
   "id": "5bd2254e",
   "metadata": {},
   "outputs": [
    {
     "data": {
      "text/plain": [
       "LinearScale(allow_padding=False, max=511.5, min=-0.5)"
      ]
     },
     "execution_count": 61,
     "metadata": {},
     "output_type": "execute_result"
    }
   ],
   "source": [
    "canvas.x_scale"
   ]
  },
  {
   "cell_type": "code",
   "execution_count": 49,
   "id": "44118f32",
   "metadata": {},
   "outputs": [
    {
     "ename": "ValueError",
     "evalue": "zero-size array to reduction operation minimum which has no identity",
     "output_type": "error",
     "traceback": [
      "\u001b[1;31m---------------------------------------------------------------------------\u001b[0m",
      "\u001b[1;31mValueError\u001b[0m                                Traceback (most recent call last)",
      "\u001b[1;32m<ipython-input-49-6c5412f52edb>\u001b[0m in \u001b[0;36m<module>\u001b[1;34m\u001b[0m\n\u001b[1;32m----> 1\u001b[1;33m \u001b[0mpoint_artist\u001b[0m\u001b[1;33m.\u001b[0m\u001b[0mlimits\u001b[0m\u001b[1;33m\u001b[0m\u001b[1;33m\u001b[0m\u001b[0m\n\u001b[0m",
      "\u001b[1;32mc:\\users\\jacob\\pycharmprojects\\nanotag\\nanotag\\artists.py\u001b[0m in \u001b[0;36mlimits\u001b[1;34m(self)\u001b[0m\n\u001b[0;32m    154\u001b[0m     \u001b[1;33m@\u001b[0m\u001b[0mproperty\u001b[0m\u001b[1;33m\u001b[0m\u001b[1;33m\u001b[0m\u001b[0m\n\u001b[0;32m    155\u001b[0m     \u001b[1;32mdef\u001b[0m \u001b[0mlimits\u001b[0m\u001b[1;33m(\u001b[0m\u001b[0mself\u001b[0m\u001b[1;33m)\u001b[0m\u001b[1;33m:\u001b[0m\u001b[1;33m\u001b[0m\u001b[1;33m\u001b[0m\u001b[0m\n\u001b[1;32m--> 156\u001b[1;33m         \u001b[1;32mreturn\u001b[0m \u001b[1;33m[\u001b[0m\u001b[1;33m(\u001b[0m\u001b[0mself\u001b[0m\u001b[1;33m.\u001b[0m\u001b[0m_mark\u001b[0m\u001b[1;33m.\u001b[0m\u001b[0mx\u001b[0m\u001b[1;33m.\u001b[0m\u001b[0mmin\u001b[0m\u001b[1;33m(\u001b[0m\u001b[1;33m)\u001b[0m\u001b[1;33m,\u001b[0m \u001b[0mself\u001b[0m\u001b[1;33m.\u001b[0m\u001b[0m_mark\u001b[0m\u001b[1;33m.\u001b[0m\u001b[0mx\u001b[0m\u001b[1;33m.\u001b[0m\u001b[0mmax\u001b[0m\u001b[1;33m(\u001b[0m\u001b[1;33m)\u001b[0m\u001b[1;33m)\u001b[0m\u001b[1;33m,\u001b[0m \u001b[1;33m(\u001b[0m\u001b[0mself\u001b[0m\u001b[1;33m.\u001b[0m\u001b[0m_mark\u001b[0m\u001b[1;33m.\u001b[0m\u001b[0my\u001b[0m\u001b[1;33m.\u001b[0m\u001b[0mmin\u001b[0m\u001b[1;33m(\u001b[0m\u001b[1;33m)\u001b[0m\u001b[1;33m,\u001b[0m \u001b[0mself\u001b[0m\u001b[1;33m.\u001b[0m\u001b[0m_mark\u001b[0m\u001b[1;33m.\u001b[0m\u001b[0my\u001b[0m\u001b[1;33m.\u001b[0m\u001b[0mmax\u001b[0m\u001b[1;33m(\u001b[0m\u001b[1;33m)\u001b[0m\u001b[1;33m)\u001b[0m\u001b[1;33m]\u001b[0m\u001b[1;33m\u001b[0m\u001b[1;33m\u001b[0m\u001b[0m\n\u001b[0m\u001b[0;32m    157\u001b[0m \u001b[1;33m\u001b[0m\u001b[0m\n\u001b[0;32m    158\u001b[0m     \u001b[1;33m@\u001b[0m\u001b[0mobserve\u001b[0m\u001b[1;33m(\u001b[0m\u001b[1;34m'labels'\u001b[0m\u001b[1;33m)\u001b[0m\u001b[1;33m\u001b[0m\u001b[1;33m\u001b[0m\u001b[0m\n",
      "\u001b[1;32m~\\anaconda3\\envs\\nanotag\\lib\\site-packages\\numpy\\core\\_methods.py\u001b[0m in \u001b[0;36m_amin\u001b[1;34m(a, axis, out, keepdims, initial, where)\u001b[0m\n\u001b[0;32m     42\u001b[0m def _amin(a, axis=None, out=None, keepdims=False,\n\u001b[0;32m     43\u001b[0m           initial=_NoValue, where=True):\n\u001b[1;32m---> 44\u001b[1;33m     \u001b[1;32mreturn\u001b[0m \u001b[0mumr_minimum\u001b[0m\u001b[1;33m(\u001b[0m\u001b[0ma\u001b[0m\u001b[1;33m,\u001b[0m \u001b[0maxis\u001b[0m\u001b[1;33m,\u001b[0m \u001b[1;32mNone\u001b[0m\u001b[1;33m,\u001b[0m \u001b[0mout\u001b[0m\u001b[1;33m,\u001b[0m \u001b[0mkeepdims\u001b[0m\u001b[1;33m,\u001b[0m \u001b[0minitial\u001b[0m\u001b[1;33m,\u001b[0m \u001b[0mwhere\u001b[0m\u001b[1;33m)\u001b[0m\u001b[1;33m\u001b[0m\u001b[1;33m\u001b[0m\u001b[0m\n\u001b[0m\u001b[0;32m     45\u001b[0m \u001b[1;33m\u001b[0m\u001b[0m\n\u001b[0;32m     46\u001b[0m def _sum(a, axis=None, dtype=None, out=None, keepdims=False,\n",
      "\u001b[1;31mValueError\u001b[0m: zero-size array to reduction operation minimum which has no identity"
     ]
    }
   ],
   "source": [
    "point_artist.limits"
   ]
  },
  {
   "cell_type": "code",
   "execution_count": 46,
   "id": "5be17375",
   "metadata": {},
   "outputs": [
    {
     "data": {
      "application/vnd.jupyter.widget-view+json": {
       "model_id": "8f4d633fc4044458bb81d5e61c762d81",
       "version_major": 2,
       "version_minor": 0
      },
      "text/plain": [
       "HBox(children=(HBox(layout=Layout(width='50px')), HBox(children=(ToggleButtons(options=('None', 'Zoom'), style…"
      ]
     },
     "metadata": {},
     "output_type": "display_data"
    }
   ],
   "source": [
    "canvas.toolbar"
   ]
  },
  {
   "cell_type": "code",
   "execution_count": 38,
   "id": "ed80658e",
   "metadata": {},
   "outputs": [],
   "source": [
    "point_artist._mark.x = np.array([10.,15.])\n",
    "point_artist._mark.y = np.array([10.,15.])"
   ]
  },
  {
   "cell_type": "code",
   "execution_count": 34,
   "id": "c7266b6c",
   "metadata": {},
   "outputs": [
    {
     "data": {
      "text/plain": [
       "array([-5.000e-01,  5.115e+02])"
      ]
     },
     "execution_count": 34,
     "metadata": {},
     "output_type": "execute_result"
    }
   ],
   "source": [
    "canvas.figure.marks[0].y"
   ]
  },
  {
   "cell_type": "code",
   "execution_count": 22,
   "id": "76dd6a61",
   "metadata": {},
   "outputs": [],
   "source": [
    "point_artist._mark.colors = ['blue']"
   ]
  },
  {
   "cell_type": "code",
   "execution_count": 16,
   "id": "bd8e0583",
   "metadata": {},
   "outputs": [
    {
     "data": {
      "text/plain": [
       "array([], dtype=float64)"
      ]
     },
     "execution_count": 16,
     "metadata": {},
     "output_type": "execute_result"
    }
   ],
   "source": [
    "point_artist.x"
   ]
  },
  {
   "cell_type": "code",
   "execution_count": 9,
   "id": "56c6ae46",
   "metadata": {},
   "outputs": [
    {
     "data": {
      "text/plain": [
       "{'points': [[249.34733147332986, -37.53690065652258],\n",
       "  [544.1574445081301, -34.78811093100858],\n",
       "  [40.2181405983585, -34.85572044762844],\n",
       "  [337.8337595902933, -29.48465964484098],\n",
       "  [126.21107043130766, -22.91208559761767],\n",
       "  [385.1810410368295, -21.478162782321824],\n",
       "  [171.61936144237427, -15.96780863669764],\n",
       "  [-32.17645585163819, -8.3755146937873],\n",
       "  [475.9096117250294, -5.3357538748753015],\n",
       "  [262.7907813686932, 1.890192542548087],\n",
       "  [521.2567453403831, 2.7341668102083445],\n",
       "  [52.20820407574241, 5.797074833114087],\n",
       "  [308.33833894031153, 8.036876028244913],\n",
       "  [98.81751728852878, 13.431449141558405],\n",
       "  [400.1148398061421, 22.389122700542604],\n",
       "  [187.75389417184925, 29.49936306591128],\n",
       "  [445.43642496792495, 31.901764724056115],\n",
       "  [-21.34950604515379, 34.85481138650903],\n",
       "  [233.26417289157223, 37.81157639444403],\n",
       "  [24.128114021443192, 42.89666782819559],\n",
       "  [537.2162683557178, 46.09577493021169],\n",
       "  [324.28923460098923, 52.527417223458265],\n",
       "  [114.61460689580645, 57.14667300198967],\n",
       "  [369.96504521861095, 59.08167461213503],\n",
       "  [158.20132459444457, 64.76176141559169],\n",
       "  [462.55488548558355, 76.0104359332629],\n",
       "  [249.33470234291642, 83.07681312528362],\n",
       "  [509.3746464178722, 83.21842122274757],\n",
       "  [39.98607740628932, 86.35326548757058],\n",
       "  [294.9364259755237, 89.92605261352783],\n",
       "  [83.26922629152178, 94.03981174346679],\n",
       "  [386.11465485307696, 104.32465859976817],\n",
       "  [174.3987847526935, 110.14794125483334],\n",
       "  [431.67741965806533, 111.95393553645744],\n",
       "  [-32.174506442676226, 115.27834436037058],\n",
       "  [219.85533248524166, 118.25519089762555],\n",
       "  [8.778650501610247, 123.28852645970423],\n",
       "  [525.499504167491, 128.68599123311802],\n",
       "  [311.0438686580033, 133.9958397853423],\n",
       "  [99.27776125431006, 139.29866433587793],\n",
       "  [356.60060633354703, 140.52218314900958],\n",
       "  [144.87182324554055, 146.74199865683647],\n",
       "  [447.7870846464442, 155.50231382488602],\n",
       "  [235.74887487238067, 163.34501121395047],\n",
       "  [495.0191809941909, 163.6994277792022],\n",
       "  [24.54490819867961, 166.9064614572484],\n",
       "  [281.2601068279599, 171.3109109835296],\n",
       "  [69.71634542392094, 175.42677095904185],\n",
       "  [372.60171028052133, 184.99531722200024],\n",
       "  [160.91032344531504, 190.6225989660765],\n",
       "  [418.1732074447165, 192.60551169685954],\n",
       "  [206.43282738217997, 198.42908003543718],\n",
       "  [-5.672456302124822, 203.72972447187985],\n",
       "  [510.4605311946021, 209.13528896506358],\n",
       "  [297.20255921282177, 214.66818065408634],\n",
       "  [85.77489927596419, 219.8513719660255],\n",
       "  [342.88073261513745, 222.43795413789323],\n",
       "  [131.36835385473674, 227.89126190685928],\n",
       "  [433.66575060333247, 236.6922769904952],\n",
       "  [221.94655112127302, 242.90538195067532],\n",
       "  [479.5569630060196, 244.52023744988824],\n",
       "  [10.667138625974294, 249.0738050207424],\n",
       "  [268.0841482843231, 250.95730803021542],\n",
       "  [56.26420398348298, 255.6373556627885],\n",
       "  [357.17124906881145, 265.4508739869492],\n",
       "  [146.2076543799271, 270.8480296691375],\n",
       "  [402.83274097173506, 273.4003621415351],\n",
       "  [192.37228831360554, 278.87181735936406],\n",
       "  [-19.38197775833699, 284.8291710036903],\n",
       "  [495.86394872423284, 289.3231688258846],\n",
       "  [281.7286876880071, 294.9096451745792],\n",
       "  [538.9224883378205, 294.9589346630949],\n",
       "  [72.40305869445638, 300.32969917210755],\n",
       "  [327.2385310989756, 302.5521872878581],\n",
       "  [117.80754628990046, 308.3094437104799],\n",
       "  [419.42775256185814, 316.6410228819543],\n",
       "  [207.7897828738167, 323.9149611309544],\n",
       "  [466.4571405691233, 324.5414924111551],\n",
       "  [-4.964083726353727, 329.4490849521099],\n",
       "  [252.24839061721957, 331.7671947813124],\n",
       "  [42.851472185427404, 337.01046011228016],\n",
       "  [343.2483039031472, 346.1260354152359],\n",
       "  [133.47892180244148, 351.2815374815422],\n",
       "  [389.0295315227572, 353.928121734491],\n",
       "  [177.13552093539977, 359.32996276043735],\n",
       "  [-32.17860616451912, 364.9740280800157],\n",
       "  [482.609718080083, 369.6621627111146],\n",
       "  [268.23913436479137, 375.32574036082184],\n",
       "  [528.299753543806, 376.8764728134056],\n",
       "  [58.29022254117934, 380.74120576250607],\n",
       "  [314.17324077731934, 382.823368595601],\n",
       "  [102.15844888324192, 388.67011251867234],\n",
       "  [404.9326948646711, 397.0228118635699],\n",
       "  [193.05397760445823, 403.6616820684684],\n",
       "  [453.06256756224724, 405.10068009642174],\n",
       "  [-18.5935776796654, 410.22490448067697],\n",
       "  [238.6377985189635, 411.00782242102645],\n",
       "  [26.85200300192202, 416.94918163952565],\n",
       "  [541.6043794420192, 420.94990125294305],\n",
       "  [330.418642921284, 426.3793322137464],\n",
       "  [118.0859030936294, 431.7225480122914],\n",
       "  [375.9431739010732, 434.34962152999145],\n",
       "  [163.94425028702673, 439.6047226485664],\n",
       "  [469.21375265298997, 449.2240379863655],\n",
       "  [255.04097372762774, 455.77963373529803],\n",
       "  [517.4564030698879, 456.0888542356641],\n",
       "  [42.976544239490934, 461.119603672073],\n",
       "  [300.3027251859673, 462.77632269033205],\n",
       "  [88.63871685132058, 468.98717172341105],\n",
       "  [393.83491367259523, 477.6532744121671],\n",
       "  [179.7949223173371, 484.16741787716734],\n",
       "  [439.7310585699549, 485.48279059890694],\n",
       "  [-29.779569607296562, 490.66136480821774],\n",
       "  [225.22345865125558, 491.19950599697194],\n",
       "  [13.398969661246507, 498.68980195889327],\n",
       "  [533.5556615373398, 501.3951362651868],\n",
       "  [316.38628560950133, 506.7548642271819],\n",
       "  [104.52336543706268, 512.1081130156551],\n",
       "  [361.9723406662994, 514.7950884361437],\n",
       "  [150.14810249000328, 520.2222590733979],\n",
       "  [455.79021375053026, 528.1996405173843],\n",
       "  [241.92093010056055, 534.576630834632],\n",
       "  [501.4202843252324, 536.2396768969977],\n",
       "  [29.49107101073664, 538.9391216217334],\n",
       "  [286.9115493069668, 541.6108282371296],\n",
       "  [77.7550542586932, 544.2855109600695]]}"
      ]
     },
     "execution_count": 9,
     "metadata": {},
     "output_type": "execute_result"
    }
   ],
   "source": [
    "browser.frame_metadata"
   ]
  },
  {
   "cell_type": "code",
   "execution_count": 25,
   "id": "b8959146",
   "metadata": {},
   "outputs": [
    {
     "data": {
      "text/plain": [
       "array([[0.00216649, 0.00226497, 0.00190389, ..., 0.00157563, 0.00196954,\n",
       "        0.00203519],\n",
       "       [0.00226497, 0.00249475, 0.00239627, ..., 0.00210084, 0.00236345,\n",
       "        0.00200236],\n",
       "       [0.00216649, 0.0015428 , 0.00298713, ..., 0.0024291 , 0.00180541,\n",
       "        0.00236345],\n",
       "       ...,\n",
       "       [0.00183824, 0.00177258, 0.00206801, ..., 0.00167411, 0.00311843,\n",
       "        0.00200236],\n",
       "       [0.00236345, 0.00164128, 0.0014115 , ..., 0.00196954, 0.00216649,\n",
       "        0.00216649],\n",
       "       [0.00226497, 0.00262605, 0.00236345, ..., 0.00170693, 0.00160846,\n",
       "        0.00196954]], dtype=float32)"
      ]
     },
     "execution_count": 25,
     "metadata": {},
     "output_type": "execute_result"
    }
   ],
   "source": [
    "browser.image"
   ]
  },
  {
   "cell_type": "code",
   "execution_count": null,
   "id": "fede76f2",
   "metadata": {},
   "outputs": [],
   "source": []
  },
  {
   "cell_type": "code",
   "execution_count": 11,
   "id": "dc4b99e3",
   "metadata": {},
   "outputs": [],
   "source": [
    "canvas.figure.axes[0].label = 'sss'"
   ]
  }
 ],
 "metadata": {
  "kernelspec": {
   "display_name": "nanotag",
   "language": "python",
   "name": "nanotag"
  },
  "language_info": {
   "codemirror_mode": {
    "name": "ipython",
    "version": 3
   },
   "file_extension": ".py",
   "mimetype": "text/x-python",
   "name": "python",
   "nbconvert_exporter": "python",
   "pygments_lexer": "ipython3",
   "version": "3.8.10"
  }
 },
 "nbformat": 4,
 "nbformat_minor": 5
}
